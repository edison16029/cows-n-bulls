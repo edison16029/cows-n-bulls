{
 "cells": [
  {
   "cell_type": "code",
   "execution_count": 1,
   "metadata": {},
   "outputs": [],
   "source": [
    "import json\n",
    "import requests"
   ]
  },
  {
   "cell_type": "code",
   "execution_count": 2,
   "metadata": {},
   "outputs": [],
   "source": [
    "def load_words(filename):\n",
    "    with open(filename,'r') as f:\n",
    "        return json.load(f)"
   ]
  },
  {
   "cell_type": "code",
   "execution_count": 3,
   "metadata": {},
   "outputs": [],
   "source": [
    "combined_words = load_words(\"../_CNBFourLetterWordsWordsAPI.json\")\n",
    "# combined_words = ['myth','spam','ssde','hugi']"
   ]
  },
  {
   "cell_type": "code",
   "execution_count": 4,
   "metadata": {},
   "outputs": [
    {
     "name": "stdout",
     "output_type": "stream",
     "text": [
      "Total Count :  4213\n"
     ]
    }
   ],
   "source": [
    "print(\"Total Count : \",len(combined_words))"
   ]
  },
  {
   "cell_type": "code",
   "execution_count": 8,
   "metadata": {},
   "outputs": [
    {
     "name": "stdout",
     "output_type": "stream",
     "text": [
      "Count List 1 :  2099\n",
      "Count List 2 :  2114\n"
     ]
    }
   ],
   "source": [
    "count = 0\n",
    "wapi_list1 = []\n",
    "wapi_list2 = []\n",
    "for word in combined_words:\n",
    "    count +=1\n",
    "    if count<2100:\n",
    "        wapi_list1.append(word)\n",
    "    else:\n",
    "        wapi_list2.append(word)\n",
    "print(\"Count List 1 : \",len(wapi_list1))\n",
    "print(\"Count List 2 : \",len(wapi_list2))"
   ]
  },
  {
   "cell_type": "code",
   "execution_count": 13,
   "metadata": {},
   "outputs": [],
   "source": [
    "def retrieveWAPIWord(word):\n",
    "    url = \"https://wordsapiv1.p.rapidapi.com/words/\" + word\n",
    "    headers = {\n",
    "        'x-rapidapi-host': \"wordsapiv1.p.rapidapi.com\",\n",
    "        'x-rapidapi-key': \"cc7dc146fbmshfed28857fb4ea89p170cb0jsnd674115956bc\"\n",
    "        }\n",
    "    response = requests.request(\"GET\", url, headers=headers)\n",
    "    return response\n"
   ]
  },
  {
   "cell_type": "code",
   "execution_count": 36,
   "metadata": {},
   "outputs": [],
   "source": [
    "sample_list = ['hugi','happy','block','dfsadfa','xciv']"
   ]
  },
  {
   "cell_type": "code",
   "execution_count": 37,
   "metadata": {},
   "outputs": [
    {
     "name": "stdout",
     "output_type": "stream",
     "text": [
      "hugi\n",
      "happy\n",
      "block\n",
      "dfsadfa\n",
      "xciv\n"
     ]
    }
   ],
   "source": [
    "for word in sample_list:\n",
    "    print(word)"
   ]
  },
  {
   "cell_type": "code",
   "execution_count": 32,
   "metadata": {},
   "outputs": [],
   "source": [
    "response = retrieveWAPIWord(\"hugi\")"
   ]
  },
  {
   "cell_type": "code",
   "execution_count": 30,
   "metadata": {},
   "outputs": [
    {
     "data": {
      "text/plain": [
       "200"
      ]
     },
     "execution_count": 30,
     "metadata": {},
     "output_type": "execute_result"
    }
   ],
   "source": [
    "if response.status_code==200:\n",
    "    body = x.json()\n",
    "    if 'results' in body:\n",
    "        frequency = -1\n",
    "        if 'frequency' in body:\n",
    "            frequency = body['frequency']\n",
    "        \n",
    "    \n",
    "    "
   ]
  },
  {
   "cell_type": "code",
   "execution_count": 42,
   "metadata": {},
   "outputs": [
    {
     "name": "stdout",
     "output_type": "stream",
     "text": [
      "Count :  100\n",
      "Defined :  62\n",
      "Undefined : 38\n",
      "Error : 0\n",
      "===========================================================================\n",
      "Count :  200\n",
      "Defined :  122\n",
      "Undefined : 78\n",
      "Error : 0\n",
      "===========================================================================\n",
      "Count :  300\n",
      "Defined :  186\n",
      "Undefined : 114\n",
      "Error : 0\n",
      "===========================================================================\n",
      "Count :  400\n",
      "Defined :  245\n",
      "Undefined : 155\n",
      "Error : 0\n",
      "===========================================================================\n",
      "Count :  500\n",
      "Defined :  305\n",
      "Undefined : 195\n",
      "Error : 0\n",
      "===========================================================================\n",
      "Count :  600\n",
      "Defined :  353\n",
      "Undefined : 247\n",
      "Error : 0\n",
      "===========================================================================\n",
      "Count :  700\n",
      "Defined :  405\n",
      "Undefined : 295\n",
      "Error : 0\n",
      "===========================================================================\n",
      "Count :  800\n",
      "Defined :  457\n",
      "Undefined : 343\n",
      "Error : 0\n",
      "===========================================================================\n",
      "Count :  900\n",
      "Defined :  511\n",
      "Undefined : 389\n",
      "Error : 0\n",
      "===========================================================================\n",
      "Count :  1000\n",
      "Defined :  567\n",
      "Undefined : 433\n",
      "Error : 0\n",
      "===========================================================================\n",
      "Count :  1100\n",
      "Defined :  626\n",
      "Undefined : 474\n",
      "Error : 0\n",
      "===========================================================================\n",
      "Count :  1200\n",
      "Defined :  694\n",
      "Undefined : 506\n",
      "Error : 0\n",
      "===========================================================================\n",
      "Count :  1300\n",
      "Defined :  765\n",
      "Undefined : 535\n",
      "Error : 0\n",
      "===========================================================================\n",
      "Count :  1400\n",
      "Defined :  840\n",
      "Undefined : 560\n",
      "Error : 0\n",
      "===========================================================================\n",
      "Count :  1500\n",
      "Defined :  904\n",
      "Undefined : 596\n",
      "Error : 0\n",
      "===========================================================================\n",
      "Count :  1600\n",
      "Defined :  968\n",
      "Undefined : 632\n",
      "Error : 0\n",
      "===========================================================================\n",
      "Count :  1700\n",
      "Defined :  1037\n",
      "Undefined : 663\n",
      "Error : 0\n",
      "===========================================================================\n",
      "Count :  1800\n",
      "Defined :  1102\n",
      "Undefined : 698\n",
      "Error : 0\n",
      "===========================================================================\n",
      "Count :  1900\n",
      "Defined :  1155\n",
      "Undefined : 745\n",
      "Error : 0\n",
      "===========================================================================\n",
      "Count :  2000\n",
      "Defined :  1224\n",
      "Undefined : 776\n",
      "Error : 0\n",
      "===========================================================================\n",
      "Count :  2100\n",
      "Defined :  1279\n",
      "Undefined : 821\n",
      "Error : 0\n",
      "===========================================================================\n",
      "Count :  2114\n",
      "Defined :  1285\n",
      "Undefined : 829\n",
      "Error : 0\n",
      "===========================================================================\n",
      "File 1 Written\n",
      "File 2 Written\n",
      "File 3 Written\n"
     ]
    }
   ],
   "source": [
    "# Find words which has a value for difficulty endpoint \n",
    "defined_words = []\n",
    "undefined_words = []\n",
    "error_words = []\n",
    "\n",
    "count = 0\n",
    "defined_count = 0 \n",
    "undefined_count = 0\n",
    "for word in wapi_list2:\n",
    "    temp = {}\n",
    "    temp['word'] = word\n",
    "    response = retrieveWAPIWord(word)\n",
    "    if response.status_code==200:\n",
    "        body = response.json()\n",
    "        frequency = -1\n",
    "        if 'frequency' in body:\n",
    "            frequency = body['frequency']\n",
    "        temp['frequency'] = frequency\n",
    "        if 'results' in body:\n",
    "            defined_words.append(temp)\n",
    "        else:\n",
    "            undefined_words.append(temp)\n",
    "    else:\n",
    "        error_words.append(temp)\n",
    "    count+=1\n",
    "    if count%100 == 0:\n",
    "        print(\"Count : \",count)\n",
    "        print(\"Defined : \",len(defined_words))\n",
    "        print(\"Undefined :\",len(undefined_words))\n",
    "        print(\"Error :\",len(error_words))\n",
    "        print(\"===========================================================================\")\n",
    "\n",
    "print(\"Count : \",count)\n",
    "print(\"Defined : \",len(defined_words))\n",
    "print(\"Undefined :\",len(undefined_words))\n",
    "print(\"Error :\",len(error_words))\n",
    "\n",
    "print(\"===========================================================================\")\n",
    "\n",
    "with open('wapidefined.json','w') as f:\n",
    "    json.dump(defined_words,f,indent=4)\n",
    "print(\"File 1 Written\")\n",
    "\n",
    "with open('wapiundefined.json','w') as f:\n",
    "    json.dump(undefined_words,f,indent=4)\n",
    "print(\"File 2 Written\")\n",
    "\n",
    "with open('wapierror.json','w') as f:\n",
    "    json.dump(error_words,f,indent=4)\n",
    "print(\"File 3 Written\")\n",
    "\n"
   ]
  },
  {
   "cell_type": "code",
   "execution_count": null,
   "metadata": {},
   "outputs": [],
   "source": [
    "from collections import Counter\n",
    "x = Counter(word['difficulty'] for _,word in defined_words.items())\n",
    "    "
   ]
  }
 ],
 "metadata": {
  "kernelspec": {
   "display_name": "Python 3",
   "language": "python",
   "name": "python3"
  },
  "language_info": {
   "codemirror_mode": {
    "name": "ipython",
    "version": 3
   },
   "file_extension": ".py",
   "mimetype": "text/x-python",
   "name": "python",
   "nbconvert_exporter": "python",
   "pygments_lexer": "ipython3",
   "version": "3.7.4"
  }
 },
 "nbformat": 4,
 "nbformat_minor": 2
}
