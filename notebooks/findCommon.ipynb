{
 "cells": [
  {
   "cell_type": "code",
   "execution_count": 12,
   "metadata": {},
   "outputs": [],
   "source": [
    "import json\n",
    "import numpy as np"
   ]
  },
  {
   "cell_type": "code",
   "execution_count": 2,
   "metadata": {},
   "outputs": [],
   "source": [
    "def load_words(filename):\n",
    "    with open(filename,'r') as f:\n",
    "        return json.load(f)"
   ]
  },
  {
   "cell_type": "code",
   "execution_count": 27,
   "metadata": {},
   "outputs": [],
   "source": [
    "twdef = load_words(\"../_CNBFourLetterWordsTWDef.json\")\n",
    "wapidef = load_words(\"../_CNBFourLetterWordsWAPIDef.json\")"
   ]
  },
  {
   "cell_type": "code",
   "execution_count": 4,
   "metadata": {},
   "outputs": [
    {
     "name": "stdout",
     "output_type": "stream",
     "text": [
      "twdef  Count  2686\n",
      "wapidef Count  2437\n"
     ]
    }
   ],
   "source": [
    "print(\"twdef  Count \",len(twdef))\n",
    "print(\"wapidef Count \",len(wapidef))"
   ]
  },
  {
   "cell_type": "code",
   "execution_count": 8,
   "metadata": {},
   "outputs": [
    {
     "name": "stdout",
     "output_type": "stream",
     "text": [
      "twdef  Count  2686\n",
      "wapidef Count  2437\n"
     ]
    }
   ],
   "source": [
    "twdeflist = []\n",
    "wapideflist = []\n",
    "for _,word in twdef.items():\n",
    "    twdeflist.append(word['word'])\n",
    "for _,word in wapidef.items():\n",
    "    wapideflist.append(word['word'])\n",
    "print(\"twdef  Count \",len(twdeflist))\n",
    "print(\"wapidef Count \",len(wapideflist))"
   ]
  },
  {
   "cell_type": "code",
   "execution_count": 20,
   "metadata": {},
   "outputs": [
    {
     "name": "stdout",
     "output_type": "stream",
     "text": [
      "Common Count :  2419\n"
     ]
    }
   ],
   "source": [
    "common_list = np.intersect1d(twdeflist, wapideflist)\n",
    "print(\"Common Count : \",len(common_list))"
   ]
  },
  {
   "cell_type": "code",
   "execution_count": 38,
   "metadata": {},
   "outputs": [],
   "source": [
    "common_dict = {}\n",
    "\n",
    "for _,t in twdef.items():\n",
    "    word = t['word']\n",
    "    if word in common_list:\n",
    "        common_dict[word] = t"
   ]
  },
  {
   "cell_type": "code",
   "execution_count": 40,
   "metadata": {},
   "outputs": [],
   "source": [
    "for _,t in wapidef.items():\n",
    "    word = t['word']\n",
    "    if word in common_list:\n",
    "        common_dict[word]['frequency'] = t['frequency']"
   ]
  },
  {
   "cell_type": "code",
   "execution_count": 42,
   "metadata": {},
   "outputs": [
    {
     "name": "stdout",
     "output_type": "stream",
     "text": [
      "{'word': 'abed', 'difficulty': 1, 'frequency': 2.63}\n"
     ]
    }
   ],
   "source": [
    "for _,t in common_dict.items():\n",
    "    print(t)\n",
    "    break"
   ]
  },
  {
   "cell_type": "code",
   "execution_count": 43,
   "metadata": {},
   "outputs": [
    {
     "data": {
      "text/plain": [
       "2419"
      ]
     },
     "execution_count": 43,
     "metadata": {},
     "output_type": "execute_result"
    }
   ],
   "source": [
    "len(common_dict)"
   ]
  },
  {
   "cell_type": "code",
   "execution_count": 45,
   "metadata": {},
   "outputs": [],
   "source": [
    "with open(\"_CNBFourLetterWordsDefined.json\",'w') as fd:\n",
    "    json.dump(common_dict,fd,indent=4)"
   ]
  },
  {
   "cell_type": "code",
   "execution_count": null,
   "metadata": {},
   "outputs": [],
   "source": []
  }
 ],
 "metadata": {
  "kernelspec": {
   "display_name": "Python 3",
   "language": "python",
   "name": "python3"
  },
  "language_info": {
   "codemirror_mode": {
    "name": "ipython",
    "version": 3
   },
   "file_extension": ".py",
   "mimetype": "text/x-python",
   "name": "python",
   "nbconvert_exporter": "python",
   "pygments_lexer": "ipython3",
   "version": "3.7.4"
  }
 },
 "nbformat": 4,
 "nbformat_minor": 2
}
